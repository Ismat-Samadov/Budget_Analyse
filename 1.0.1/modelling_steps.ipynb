{
 "cells": [
  {
   "cell_type": "markdown",
   "id": "6e5edff7-4337-4e23-be88-5ba3973cdcfa",
   "metadata": {},
   "source": [
    "## Load libraries"
   ]
  },
  {
   "cell_type": "code",
   "execution_count": 1,
   "id": "c5881001-8875-49dc-88a3-7dfe393ba339",
   "metadata": {},
   "outputs": [],
   "source": [
    "import pandas as pd\n",
    "from sklearn.model_selection import train_test_split\n",
    "from sklearn.ensemble import RandomForestRegressor\n",
    "from sklearn.preprocessing import StandardScaler\n",
    "from sklearn.model_selection import GridSearchCV\n",
    "from sklearn.feature_selection import SelectFromModel\n",
    "from sklearn.metrics import mean_squared_error\n",
    "import pickle\n",
    "import warnings\n",
    "warnings.simplefilter(action='ignore', category=FutureWarning)"
   ]
  },
  {
   "cell_type": "markdown",
   "id": "0c43a595-a34b-4ca8-acc2-728bc24d1b75",
   "metadata": {},
   "source": [
    "# Load the dataset"
   ]
  },
  {
   "cell_type": "code",
   "execution_count": 2,
   "id": "a8199d05-067a-46a8-afc6-e7be6c8b2682",
   "metadata": {},
   "outputs": [],
   "source": [
    "df = pd.read_excel('07.2022---05.2024.xlsx')"
   ]
  },
  {
   "cell_type": "markdown",
   "id": "7b9f79a2-b0f1-4f06-a6f3-1f4257de3a4d",
   "metadata": {},
   "source": [
    "## Convert 'time' column to datetime format"
   ]
  },
  {
   "cell_type": "code",
   "execution_count": 3,
   "id": "5069707e-77ac-47c9-95b8-01bb81d8f90e",
   "metadata": {},
   "outputs": [],
   "source": [
    "df['time'] = pd.to_datetime(df['time'], format='%H:%M:%S').dt.time"
   ]
  },
  {
   "cell_type": "markdown",
   "id": "f990a67c-341e-4e00-ad77-3a751a00bc4c",
   "metadata": {},
   "source": [
    "## Convert time values to seconds since midnight"
   ]
  },
  {
   "cell_type": "code",
   "execution_count": 4,
   "id": "4c685ed6-1e16-48e9-946b-4ea2d9f2b369",
   "metadata": {},
   "outputs": [],
   "source": [
    "df['time_seconds'] = df['time'].apply(lambda x: x.hour * 3600 + x.minute * 60 + x.second)"
   ]
  },
  {
   "cell_type": "markdown",
   "id": "4f997e0c-9416-49d7-8400-6490392dacd8",
   "metadata": {},
   "source": [
    "## Convert categorical variables into numerical format using one-hot encoding"
   ]
  },
  {
   "cell_type": "code",
   "execution_count": 5,
   "id": "8290af0b-c0fc-4071-bca9-60a8c65c423a",
   "metadata": {},
   "outputs": [],
   "source": [
    "df = pd.get_dummies(df, columns=['category'])"
   ]
  },
  {
   "cell_type": "markdown",
   "id": "4a225ac5-977e-47a0-85c4-a686bf3ce641",
   "metadata": {},
   "source": [
    "## Feature engineering"
   ]
  },
  {
   "cell_type": "code",
   "execution_count": 6,
   "id": "2a78e458-919d-4997-a7aa-1c35b768aed3",
   "metadata": {},
   "outputs": [],
   "source": [
    "df['dayofweek'] = df['date'].dt.dayofweek"
   ]
  },
  {
   "cell_type": "markdown",
   "id": "02603984-83c4-43c4-abe2-e56346b24401",
   "metadata": {},
   "source": [
    "## Splitting the data into training and testing sets"
   ]
  },
  {
   "cell_type": "code",
   "execution_count": 7,
   "id": "4fd10412-38e9-4498-84f7-6462b9e66bc1",
   "metadata": {},
   "outputs": [],
   "source": [
    "X = df[['time_seconds', 'dayofweek'] + [col for col in df.columns if 'category' in col]]\n",
    "y = df['amount']\n",
    "X_train, X_test, y_train, y_test = train_test_split(X, y, test_size=0.2, random_state=42)"
   ]
  },
  {
   "cell_type": "markdown",
   "id": "90ef391f-a715-41ec-8a4d-91467d9973f1",
   "metadata": {},
   "source": [
    "## Standardize the features"
   ]
  },
  {
   "cell_type": "code",
   "execution_count": 8,
   "id": "0cdafa32-a9cd-4631-b0f4-cd7356aa1ce1",
   "metadata": {},
   "outputs": [],
   "source": [
    "scaler = StandardScaler()\n",
    "X_train_scaled = scaler.fit_transform(X_train)\n",
    "X_test_scaled = scaler.transform(X_test)"
   ]
  },
  {
   "cell_type": "markdown",
   "id": "1822beab-7bac-4dec-abb6-8a44d59534ad",
   "metadata": {},
   "source": [
    "## Random Forest Regressor with Tuning"
   ]
  },
  {
   "cell_type": "code",
   "execution_count": 9,
   "id": "25cee6ec-23eb-4fc4-9735-7bcf081563f7",
   "metadata": {},
   "outputs": [
    {
     "name": "stdout",
     "output_type": "stream",
     "text": [
      "Tuned RandomForestRegressor RMSE: 35.81805878576\n"
     ]
    }
   ],
   "source": [
    "model = RandomForestRegressor(n_estimators=200, random_state=42)\n",
    "model.fit(X_train_scaled, y_train)\n",
    "y_pred = model.predict(X_test_scaled)\n",
    "rmse = mean_squared_error(y_test, y_pred, squared=False)\n",
    "print(\"Tuned RandomForestRegressor RMSE:\", rmse)"
   ]
  },
  {
   "cell_type": "markdown",
   "id": "c2266142-1431-498b-aa90-31f4374120a3",
   "metadata": {},
   "source": [
    "## Feature selection with SelectFromModel"
   ]
  },
  {
   "cell_type": "code",
   "execution_count": 10,
   "id": "efc08bc4-6780-4a64-ad69-6400b0b34f32",
   "metadata": {},
   "outputs": [],
   "source": [
    "selector = SelectFromModel(model, threshold='median')\n",
    "selector.fit(X_train_scaled, y_train)\n",
    "X_train_selected = selector.transform(X_train_scaled)\n",
    "X_test_selected = selector.transform(X_test_scaled)"
   ]
  },
  {
   "cell_type": "markdown",
   "id": "4e71cc5e-c947-4b31-9f1b-7f52e1b9e5d3",
   "metadata": {},
   "source": [
    "## Final 1.0.0 with selected features"
   ]
  },
  {
   "cell_type": "code",
   "execution_count": 11,
   "id": "7bb228a9-c260-49bd-9668-e6cfb8f7f274",
   "metadata": {},
   "outputs": [
    {
     "name": "stdout",
     "output_type": "stream",
     "text": [
      "Selected Features RMSE: 36.50964340071141\n"
     ]
    }
   ],
   "source": [
    "final_model = RandomForestRegressor(n_estimators=200, random_state=42)\n",
    "final_model.fit(X_train_selected, y_train)\n",
    "y_pred_final = final_model.predict(X_test_selected)\n",
    "rmse_final = mean_squared_error(y_test, y_pred_final, squared=False)\n",
    "print(\"Selected Features RMSE:\", rmse_final)"
   ]
  },
  {
   "cell_type": "markdown",
   "id": "0d40d095-7278-4b65-984a-1588af8be6cf",
   "metadata": {},
   "source": [
    "## Save the final 1.0.0 to a .pkl fil"
   ]
  },
  {
   "cell_type": "code",
   "execution_count": 12,
   "id": "e74142e5-32f8-49e3-9536-165c9e5e0e81",
   "metadata": {},
   "outputs": [],
   "source": [
    "with open('final_model.pkl', 'wb') as file:\n",
    "    pickle.dump(final_model, file)"
   ]
  },
  {
   "cell_type": "code",
   "execution_count": null,
   "id": "3680b16c-b0d8-4843-ae56-129113561e5b",
   "metadata": {},
   "outputs": [],
   "source": []
  },
  {
   "cell_type": "code",
   "execution_count": null,
   "id": "68d6c7aa-7e50-4f9c-ae05-45e118e6b67e",
   "metadata": {},
   "outputs": [],
   "source": []
  },
  {
   "cell_type": "code",
   "execution_count": null,
   "id": "e54cb996-e3b3-4651-a3ce-71f5afe88cc6",
   "metadata": {},
   "outputs": [],
   "source": []
  },
  {
   "cell_type": "code",
   "execution_count": null,
   "id": "31bd0220-b23f-4ef4-9a32-493a67e0f719",
   "metadata": {},
   "outputs": [],
   "source": []
  },
  {
   "cell_type": "code",
   "execution_count": null,
   "id": "20c32c97-07cb-4958-9eab-c4d93c755d26",
   "metadata": {},
   "outputs": [],
   "source": []
  },
  {
   "cell_type": "code",
   "execution_count": null,
   "id": "a4c98f17-2081-41c8-9fbb-8891472a0fdc",
   "metadata": {},
   "outputs": [],
   "source": []
  },
  {
   "cell_type": "code",
   "execution_count": null,
   "id": "343c06d4-478b-483b-8e2a-e038bbad1005",
   "metadata": {},
   "outputs": [],
   "source": []
  },
  {
   "cell_type": "code",
   "execution_count": null,
   "id": "f26f2ca4-f8e1-4af3-a91f-40daebd97215",
   "metadata": {},
   "outputs": [],
   "source": []
  },
  {
   "cell_type": "code",
   "execution_count": null,
   "id": "11663c82-4720-48cd-a476-dfda4f1df708",
   "metadata": {},
   "outputs": [],
   "source": []
  },
  {
   "cell_type": "code",
   "execution_count": null,
   "id": "d39e60c7-184c-43b4-b9dc-168f7a7d5905",
   "metadata": {},
   "outputs": [],
   "source": []
  },
  {
   "cell_type": "code",
   "execution_count": null,
   "id": "f003160c-0f81-473f-9d83-f700e9458b2b",
   "metadata": {},
   "outputs": [],
   "source": []
  },
  {
   "cell_type": "code",
   "execution_count": null,
   "id": "b983902d-baa8-4aec-bcc5-7609c60d6f41",
   "metadata": {},
   "outputs": [],
   "source": []
  }
 ],
 "metadata": {
  "kernelspec": {
   "display_name": "Python 3 (ipykernel)",
   "language": "python",
   "name": "python3"
  },
  "language_info": {
   "codemirror_mode": {
    "name": "ipython",
    "version": 3
   },
   "file_extension": ".py",
   "mimetype": "text/x-python",
   "name": "python",
   "nbconvert_exporter": "python",
   "pygments_lexer": "ipython3",
   "version": "3.10.9"
  }
 },
 "nbformat": 4,
 "nbformat_minor": 5
}
