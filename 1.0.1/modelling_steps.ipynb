{
 "cells": [
  {
   "cell_type": "code",
   "execution_count": null,
   "id": "ef21c296-cc71-49fc-9051-a8085a735841",
   "metadata": {},
   "outputs": [],
   "source": [
    "import pandas as pd\n",
    "from sklearn.model_selection import train_test_split\n",
    "from sklearn.ensemble import RandomForestRegressor\n",
    "from sklearn.preprocessing import StandardScaler\n",
    "from sklearn.model_selection import GridSearchCV\n",
    "from sklearn.feature_selection import SelectFromModel\n",
    "from sklearn.metrics import mean_squared_error\n",
    "import pickle\n",
    "import warnings\n",
    "warnings.simplefilter(action='ignore', category=FutureWarning)\n",
    "\n",
    "# Load the dataset\n",
    "df = pd.read_excel('07.2022---05.2024.xlsx')\n",
    "\n",
    "# Convert 'time' column to datetime format\n",
    "df['time'] = pd.to_datetime(df['time'], format='%H:%M:%S').dt.time\n",
    "\n",
    "# Convert time values to seconds since midnight\n",
    "df['time_seconds'] = df['time'].apply(lambda x: x.hour * 3600 + x.minute * 60 + x.second)\n",
    "\n",
    "# Data preprocessing\n",
    "# Convert categorical variables into numerical format using one-hot encoding\n",
    "df = pd.get_dummies(df, columns=['category'])\n",
    "\n",
    "# Feature engineering\n",
    "df['dayofweek'] = df['date'].dt.dayofweek\n",
    "\n",
    "# Splitting the data into training and testing sets\n",
    "X = df[['time_seconds', 'dayofweek'] + [col for col in df.columns if 'category' in col]]\n",
    "y = df['amount']\n",
    "X_train, X_test, y_train, y_test = train_test_split(X, y, test_size=0.2, random_state=42)\n",
    "\n",
    "# Standardize the features\n",
    "scaler = StandardScaler()\n",
    "X_train_scaled = scaler.fit_transform(X_train)\n",
    "X_test_scaled = scaler.transform(X_test)\n",
    "\n",
    "# Random Forest Regressor with Tuning\n",
    "model = RandomForestRegressor(n_estimators=200, random_state=42)\n",
    "model.fit(X_train_scaled, y_train)\n",
    "y_pred = model.predict(X_test_scaled)\n",
    "rmse = mean_squared_error(y_test, y_pred, squared=False)\n",
    "print(\"Tuned RandomForestRegressor RMSE:\", rmse)\n",
    "\n",
    "# Feature selection with SelectFromModel\n",
    "selector = SelectFromModel(model, threshold='median')\n",
    "selector.fit(X_train_scaled, y_train)\n",
    "X_train_selected = selector.transform(X_train_scaled)\n",
    "X_test_selected = selector.transform(X_test_scaled)\n",
    "\n",
    "# Final 1.0.0 with selected features\n",
    "final_model = RandomForestRegressor(n_estimators=200, random_state=42)\n",
    "final_model.fit(X_train_selected, y_train)\n",
    "y_pred_final = final_model.predict(X_test_selected)\n",
    "rmse_final = mean_squared_error(y_test, y_pred_final, squared=False)\n",
    "print(\"Selected Features RMSE:\", rmse_final)\n",
    "\n",
    "# Save the final 1.0.0 to a .pkl file\n",
    "with open('final_model.pkl', 'wb') as file:\n",
    "    pickle.dump(final_model, file)\n",
    "\n"
   ]
  },
  {
   "cell_type": "code",
   "execution_count": null,
   "id": "2bab55f9-872d-40e8-944e-40092142b978",
   "metadata": {},
   "outputs": [],
   "source": []
  },
  {
   "cell_type": "code",
   "execution_count": null,
   "id": "f32000b6-cbdd-444f-aff7-87ecc0164b89",
   "metadata": {},
   "outputs": [],
   "source": []
  },
  {
   "cell_type": "code",
   "execution_count": null,
   "id": "c5881001-8875-49dc-88a3-7dfe393ba339",
   "metadata": {},
   "outputs": [],
   "source": []
  },
  {
   "cell_type": "code",
   "execution_count": null,
   "id": "a8199d05-067a-46a8-afc6-e7be6c8b2682",
   "metadata": {},
   "outputs": [],
   "source": []
  },
  {
   "cell_type": "code",
   "execution_count": null,
   "id": "e74142e5-32f8-49e3-9536-165c9e5e0e81",
   "metadata": {},
   "outputs": [],
   "source": []
  },
  {
   "cell_type": "code",
   "execution_count": null,
   "id": "3680b16c-b0d8-4843-ae56-129113561e5b",
   "metadata": {},
   "outputs": [],
   "source": []
  },
  {
   "cell_type": "code",
   "execution_count": null,
   "id": "68d6c7aa-7e50-4f9c-ae05-45e118e6b67e",
   "metadata": {},
   "outputs": [],
   "source": []
  },
  {
   "cell_type": "code",
   "execution_count": null,
   "id": "e54cb996-e3b3-4651-a3ce-71f5afe88cc6",
   "metadata": {},
   "outputs": [],
   "source": []
  },
  {
   "cell_type": "code",
   "execution_count": null,
   "id": "31bd0220-b23f-4ef4-9a32-493a67e0f719",
   "metadata": {},
   "outputs": [],
   "source": []
  },
  {
   "cell_type": "code",
   "execution_count": null,
   "id": "20c32c97-07cb-4958-9eab-c4d93c755d26",
   "metadata": {},
   "outputs": [],
   "source": []
  },
  {
   "cell_type": "code",
   "execution_count": null,
   "id": "a4c98f17-2081-41c8-9fbb-8891472a0fdc",
   "metadata": {},
   "outputs": [],
   "source": []
  },
  {
   "cell_type": "code",
   "execution_count": null,
   "id": "343c06d4-478b-483b-8e2a-e038bbad1005",
   "metadata": {},
   "outputs": [],
   "source": []
  },
  {
   "cell_type": "code",
   "execution_count": null,
   "id": "f26f2ca4-f8e1-4af3-a91f-40daebd97215",
   "metadata": {},
   "outputs": [],
   "source": []
  },
  {
   "cell_type": "code",
   "execution_count": null,
   "id": "11663c82-4720-48cd-a476-dfda4f1df708",
   "metadata": {},
   "outputs": [],
   "source": []
  },
  {
   "cell_type": "code",
   "execution_count": null,
   "id": "d39e60c7-184c-43b4-b9dc-168f7a7d5905",
   "metadata": {},
   "outputs": [],
   "source": []
  },
  {
   "cell_type": "code",
   "execution_count": null,
   "id": "f003160c-0f81-473f-9d83-f700e9458b2b",
   "metadata": {},
   "outputs": [],
   "source": []
  },
  {
   "cell_type": "code",
   "execution_count": null,
   "id": "b983902d-baa8-4aec-bcc5-7609c60d6f41",
   "metadata": {},
   "outputs": [],
   "source": []
  }
 ],
 "metadata": {
  "kernelspec": {
   "display_name": "Python 3 (ipykernel)",
   "language": "python",
   "name": "python3"
  },
  "language_info": {
   "codemirror_mode": {
    "name": "ipython",
    "version": 3
   },
   "file_extension": ".py",
   "mimetype": "text/x-python",
   "name": "python",
   "nbconvert_exporter": "python",
   "pygments_lexer": "ipython3",
   "version": "3.10.9"
  }
 },
 "nbformat": 4,
 "nbformat_minor": 5
}
